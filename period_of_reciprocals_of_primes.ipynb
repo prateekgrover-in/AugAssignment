{
  "nbformat": 4,
  "nbformat_minor": 0,
  "metadata": {
    "colab": {
      "name": "period_of_reciprocals_of_primes.ipynb",
      "provenance": []
    },
    "kernelspec": {
      "name": "python3",
      "display_name": "Python 3"
    },
    "language_info": {
      "name": "python"
    }
  },
  "cells": [
    {
      "cell_type": "code",
      "source": [
        "import time\n",
        "\n",
        "time_start = time.perf_counter()\n",
        "\n",
        "def period_of_decimal_reciprocal_primes(n):\n",
        "\n",
        "    rem = 1\n",
        "    period = 0\n",
        "    mem = {}\n",
        "\n",
        "    while (period < n - 1):\n",
        "        if (rem in mem and rem != 0):\n",
        "            return period\n",
        "\n",
        "        mem[rem] = None\n",
        "        rem = (rem * 10) % n\n",
        "        period += 1\n",
        "\n",
        "    return period\n",
        "\n",
        "print(period_of_decimal_reciprocal_primes(60013))\n",
        "\n",
        "time_elapsed = (time.perf_counter() - time_start)\n",
        "print(time_elapsed)"
      ],
      "metadata": {
        "colab": {
          "base_uri": "https://localhost:8080/"
        },
        "id": "Zkh5ExXY9Wh6",
        "outputId": "7e75be09-2dbc-41cb-b849-8d9765e51106"
      },
      "execution_count": 80,
      "outputs": [
        {
          "output_type": "stream",
          "name": "stdout",
          "text": [
            "5001\n",
            "0.00503461400148808\n"
          ]
        }
      ]
    },
    {
      "cell_type": "code",
      "source": [
        "def random_prime(lower, upper):\n",
        "    while True:\n",
        "        n = random.randint(lower, upper)\n",
        "        if (n%2 != 0):\n",
        "            prime = True;\n",
        "            for x in range(3, int(n**0.5 + 1), 2):\n",
        "                if n % x == 0:\n",
        "                    prime = False;\n",
        "                    break; \n",
        "            if prime: \n",
        "                return n"
      ],
      "metadata": {
        "id": "p-JqT5B7C79X"
      },
      "execution_count": 81,
      "outputs": []
    },
    {
      "cell_type": "code",
      "source": [
        "import random\n",
        "for exp in range(2, 7):\n",
        "    primes_list = []\n",
        "    for i in range(100):\n",
        "        primes_list.append(random_prime(pow(10, exp), pow(10, exp + 1)))\n",
        "    time_start = time.perf_counter()\n",
        "    for prime in primes_list:\n",
        "        per = period_of_decimal_reciprocal_primes(prime)\n",
        "    time_elapsed = (time.perf_counter() - time_start)\n",
        "    print(\"Range : \", \"10e\" + str(exp), \"->\", \"10e\" + str(exp + 1) + \", Average Runtime : \", round(time_elapsed * 10, 3), \"ms\")"
      ],
      "metadata": {
        "colab": {
          "base_uri": "https://localhost:8080/"
        },
        "id": "rI6kmYHTC0DU",
        "outputId": "e51167ca-79cf-45c9-d7b7-7c0e4db40665"
      },
      "execution_count": 9,
      "outputs": [
        {
          "output_type": "stream",
          "name": "stdout",
          "text": [
            "Range :  10e2 -> 10e3, Average Runtime :  0.13 ms\n",
            "Range :  10e3 -> 10e4, Average Runtime :  0.876 ms\n",
            "Range :  10e4 -> 10e5, Average Runtime :  8.784 ms\n",
            "Range :  10e5 -> 10e6, Average Runtime :  113.466 ms\n",
            "Range :  10e6 -> 10e7, Average Runtime :  1516.27 ms\n"
          ]
        }
      ]
    },
    {
      "cell_type": "code",
      "source": [
        "def opt_period_of_decimal_reciprocal_primes(n):\n",
        "    factors = []\n",
        "    for i in range(2, int(pow(n - 1, 0.5)) + 2):\n",
        "        if ((n - 1)%i == 0):\n",
        "            factors.append(i)\n",
        "            factors.append(int((n - 1)/i))\n",
        "    min_period = n - 1\n",
        "    for i in factors:\n",
        "        curr = 10**i\n",
        "        rem = curr%n\n",
        "        if (rem == -1 or rem == 1):\n",
        "            min_period = min(min_period, i)\n",
        "    return min_period"
      ],
      "metadata": {
        "id": "u0kq5nofVik5"
      },
      "execution_count": 11,
      "outputs": []
    },
    {
      "cell_type": "code",
      "source": [
        "import random\n",
        "for exp in range(2, 7):\n",
        "    primes_list = []\n",
        "    for i in range(100):\n",
        "        primes_list.append(random_prime(pow(10, exp), pow(10, exp + 1)))\n",
        "    time_start = time.perf_counter()\n",
        "    for prime in primes_list:\n",
        "        per = opt_period_of_decimal_reciprocal_primes(prime)\n",
        "    time_elapsed = (time.perf_counter() - time_start)\n",
        "    print(\"Range : \", \"10e\" + str(exp), \"->\", \"10e\" + str(exp + 1) + \", Average Runtime : \", round(time_elapsed * 10, 3), \"ms\")"
      ],
      "metadata": {
        "colab": {
          "base_uri": "https://localhost:8080/"
        },
        "id": "IQIjLA5-E7fS",
        "outputId": "779037f1-eab2-4084-fbbb-3e95fa902b95"
      },
      "execution_count": 12,
      "outputs": [
        {
          "output_type": "stream",
          "name": "stdout",
          "text": [
            "Range :  10e2 -> 10e3, Average Runtime :  0.01 ms\n",
            "Range :  10e3 -> 10e4, Average Runtime :  0.067 ms\n",
            "Range :  10e4 -> 10e5, Average Runtime :  1.496 ms\n",
            "Range :  10e5 -> 10e6, Average Runtime :  53.751 ms\n",
            "Range :  10e6 -> 10e7, Average Runtime :  2501.519 ms\n"
          ]
        }
      ]
    },
    {
      "cell_type": "code",
      "source": [
        "def opt_period_of_decimal_reciprocal_primes_modulo(n):\n",
        "    factors = []\n",
        "    for i in range(2, int(pow(n - 1, 0.5)) + 2):\n",
        "        if ((n - 1)%i == 0):\n",
        "            factors.append(i)\n",
        "            factors.append(int((n - 1)/i))\n",
        "    min_period = n - 1\n",
        "    for i in factors:\n",
        "        rem = pow(10, i, n)\n",
        "        if (rem == -1 or rem == 1):\n",
        "            min_period = min(min_period, i)\n",
        "    return min_period"
      ],
      "metadata": {
        "id": "3gMtdFJvGGn2"
      },
      "execution_count": 15,
      "outputs": []
    },
    {
      "cell_type": "code",
      "source": [
        "import random\n",
        "for exp in range(2, 13):\n",
        "    primes_list = []\n",
        "    for i in range(100):\n",
        "        primes_list.append(random_prime(pow(10, exp), pow(10, exp + 1)))\n",
        "    time_start = time.perf_counter()\n",
        "    for prime in primes_list:\n",
        "        per = opt_period_of_decimal_reciprocal_primes_modulo(prime)\n",
        "    time_elapsed = (time.perf_counter() - time_start)\n",
        "    print(\"Range : \", \"10e\" + str(exp), \"->\", \"10e\" + str(exp + 1) + \", Average Runtime : \", round(time_elapsed * 10, 3), \"ms\")"
      ],
      "metadata": {
        "colab": {
          "base_uri": "https://localhost:8080/"
        },
        "id": "Okl-ZMMOGMbh",
        "outputId": "300e344b-d930-4456-b69e-02f037ad6ee4"
      },
      "execution_count": 18,
      "outputs": [
        {
          "output_type": "stream",
          "name": "stdout",
          "text": [
            "Range :  10e2 -> 10e3, Average Runtime :  0.021 ms\n",
            "Range :  10e3 -> 10e4, Average Runtime :  0.022 ms\n",
            "Range :  10e4 -> 10e5, Average Runtime :  0.066 ms\n",
            "Range :  10e5 -> 10e6, Average Runtime :  0.125 ms\n",
            "Range :  10e6 -> 10e7, Average Runtime :  0.264 ms\n",
            "Range :  10e7 -> 10e8, Average Runtime :  0.771 ms\n",
            "Range :  10e8 -> 10e9, Average Runtime :  2.353 ms\n",
            "Range :  10e9 -> 10e10, Average Runtime :  10.683 ms\n",
            "Range :  10e10 -> 10e11, Average Runtime :  32.388 ms\n",
            "Range :  10e11 -> 10e12, Average Runtime :  103.114 ms\n",
            "Range :  10e12 -> 10e13, Average Runtime :  332.823 ms\n"
          ]
        }
      ]
    },
    {
      "cell_type": "code",
      "source": [
        "def get_next_factors(n, start):\n",
        "    if (start > pow(n, 0.5)):\n",
        "        return None\n",
        "    for i in range(start, int(pow(n, 0.5)) + 2):\n",
        "        if ((n)%i == 0):\n",
        "            return i, int((n)/i)\n",
        "    return None\n",
        "\n",
        "def opt_period_of_decimal_reciprocal_primes_modulo_generator(n):\n",
        "    start = 2\n",
        "    min_period = n - 1\n",
        "    while(get_next_factors(n - 1, start) != None):\n",
        "        div_1, div_2 = get_next_factors(n - 1, start)\n",
        "        rem = pow(10, div_1, n)\n",
        "        if (rem == -1 or rem == 1):\n",
        "            min_period = min(min_period, div_1)\n",
        "        rem = pow(10, div_2, n)\n",
        "        if (rem == -1 or rem == 1):\n",
        "            min_period = min(min_period, div_2)\n",
        "        start = min(div_1, div_2) + 1\n",
        "    return min_period"
      ],
      "metadata": {
        "id": "Cbdx2QeSHkJI"
      },
      "execution_count": 53,
      "outputs": []
    },
    {
      "cell_type": "code",
      "source": [
        "import random\n",
        "for exp in range(2, 13):\n",
        "    primes_list = []\n",
        "    for i in range(100):\n",
        "        primes_list.append(random_prime(pow(10, exp), pow(10, exp + 1)))\n",
        "    time_start = time.perf_counter()\n",
        "    for prime in primes_list:\n",
        "        per = opt_period_of_decimal_reciprocal_primes_modulo_generator(prime)\n",
        "    time_elapsed = (time.perf_counter() - time_start)\n",
        "    print(\"Range : \", \"10e\" + str(exp), \"->\", \"10e\" + str(exp + 1) + \", Average Runtime : \", round(time_elapsed * 10, 3), \"ms\")"
      ],
      "metadata": {
        "colab": {
          "base_uri": "https://localhost:8080/"
        },
        "id": "yK6gPiE-IQOv",
        "outputId": "fb1b564b-6809-42f7-a0dc-e3a0f5019d45"
      },
      "execution_count": 55,
      "outputs": [
        {
          "output_type": "stream",
          "name": "stdout",
          "text": [
            "Range :  10e2 -> 10e3, Average Runtime :  0.058 ms\n",
            "Range :  10e3 -> 10e4, Average Runtime :  0.082 ms\n",
            "Range :  10e4 -> 10e5, Average Runtime :  0.087 ms\n",
            "Range :  10e5 -> 10e6, Average Runtime :  0.143 ms\n",
            "Range :  10e6 -> 10e7, Average Runtime :  0.306 ms\n",
            "Range :  10e7 -> 10e8, Average Runtime :  0.79 ms\n",
            "Range :  10e8 -> 10e9, Average Runtime :  2.743 ms\n",
            "Range :  10e9 -> 10e10, Average Runtime :  11.13 ms\n",
            "Range :  10e10 -> 10e11, Average Runtime :  37.28 ms\n",
            "Range :  10e11 -> 10e12, Average Runtime :  115.81 ms\n",
            "Range :  10e12 -> 10e13, Average Runtime :  356.105 ms\n"
          ]
        }
      ]
    },
    {
      "cell_type": "code",
      "source": [
        "# (10 ^ 102261126) mod 2147483647 = (10 ^ 1)(10 ^ 2)(10 ^ 7) ... (10 ^ 25)(10 ^ 26) mod 2147483647"
      ],
      "metadata": {
        "id": "IND3F8segKU8"
      },
      "execution_count": null,
      "outputs": []
    },
    {
      "cell_type": "code",
      "source": [
        "def factorize(num, primes):\n",
        "    factors = []\n",
        "    for curr_prime in primes:\n",
        "        i = 0\n",
        "        while num % curr_prime == 0:\n",
        "            num = num//curr_prime\n",
        "            i = i + 1\n",
        "        if i > 0:\n",
        "            factors.append((curr_prime, i));\n",
        "    if num > 1: factors.append((num, 1))\n",
        "    return factors"
      ],
      "metadata": {
        "id": "kZG_rSw1RTgv"
      },
      "execution_count": 82,
      "outputs": []
    },
    {
      "cell_type": "code",
      "source": [
        "factorize(21, [2, 3, 5, 7, 11, 13])"
      ],
      "metadata": {
        "id": "myUtYc7m4zbC",
        "outputId": "c440062d-5d64-4587-b092-bcdf78e6e93a",
        "colab": {
          "base_uri": "https://localhost:8080/"
        }
      },
      "execution_count": 83,
      "outputs": [
        {
          "output_type": "execute_result",
          "data": {
            "text/plain": [
              "[(3, 1), (7, 1)]"
            ]
          },
          "metadata": {},
          "execution_count": 83
        }
      ]
    },
    {
      "cell_type": "code",
      "source": [
        "def divisors(factors):\n",
        "    divisors_list = [1]\n",
        "    for (prime, repeat) in factors:\n",
        "        new_divisors_list = []\n",
        "        for exp in range(repeat + 1):\n",
        "            for divisor in divisors_list:\n",
        "                new_divisors_list.append(divisor * prime**exp)\n",
        "        divisors_list = new_divisors_list\n",
        "    return divisors_list"
      ],
      "metadata": {
        "id": "VGAhudfp5wrw"
      },
      "execution_count": 94,
      "outputs": []
    },
    {
      "cell_type": "code",
      "source": [
        "divisors(factorize(20, [2, 3, 5, 7, 11, 13, 17, 19]))"
      ],
      "metadata": {
        "id": "EfqyI4cN6DrC",
        "outputId": "6ac0b084-481b-40d9-fc00-091152be530f",
        "colab": {
          "base_uri": "https://localhost:8080/"
        }
      },
      "execution_count": 100,
      "outputs": [
        {
          "output_type": "execute_result",
          "data": {
            "text/plain": [
              "[1, 2, 4, 5, 10, 20]"
            ]
          },
          "metadata": {},
          "execution_count": 100
        }
      ]
    },
    {
      "cell_type": "code",
      "source": [
        "n = 10e16"
      ],
      "metadata": {
        "id": "t0cp4Ui_L1n4"
      },
      "execution_count": 97,
      "outputs": []
    },
    {
      "cell_type": "code",
      "source": [
        "def sieve_of_eratosthenes(num):\n",
        "    all = []\n",
        "    prime = [True for i in range(num+1)]\n",
        "    p = 2\n",
        "    while (p * p <= num):\n",
        "        if (prime[p] == True):\n",
        "            for i in range(p * p, num+1, p):\n",
        "                prime[i] = False\n",
        "        p += 1\n",
        "  \n",
        "    for p in range(2, num+1):\n",
        "        if prime[p]:\n",
        "            all.append(p)\n",
        "    return all"
      ],
      "metadata": {
        "id": "jld4A7kGSCfr"
      },
      "execution_count": 98,
      "outputs": []
    },
    {
      "cell_type": "code",
      "source": [
        "import math\n",
        "primes = sieve_of_eratosthenes(int(math.sqrt(n)))"
      ],
      "metadata": {
        "id": "xbztxYX1SLog"
      },
      "execution_count": 65,
      "outputs": []
    },
    {
      "cell_type": "code",
      "source": [
        "len(primes)"
      ],
      "metadata": {
        "colab": {
          "base_uri": "https://localhost:8080/"
        },
        "id": "J8jMPwcAVATM",
        "outputId": "8bee8b43-3c9f-4efc-9498-657b90dfe1ca"
      },
      "execution_count": 66,
      "outputs": [
        {
          "output_type": "execute_result",
          "data": {
            "text/plain": [
              "17082666"
            ]
          },
          "metadata": {},
          "execution_count": 66
        }
      ]
    },
    {
      "cell_type": "code",
      "source": [
        "primes[17082665]"
      ],
      "metadata": {
        "colab": {
          "base_uri": "https://localhost:8080/"
        },
        "id": "Snr2MldXugxX",
        "outputId": "8af09cc7-7695-43ec-bcf4-9fd28890f270"
      },
      "execution_count": 67,
      "outputs": [
        {
          "output_type": "execute_result",
          "data": {
            "text/plain": [
              "316227731"
            ]
          },
          "metadata": {},
          "execution_count": 67
        }
      ]
    },
    {
      "cell_type": "code",
      "source": [
        "316227731 * 316227731"
      ],
      "metadata": {
        "colab": {
          "base_uri": "https://localhost:8080/"
        },
        "id": "sbDTKbABwnAJ",
        "outputId": "f5d77d1f-0fc5-4263-d09b-856761fec949"
      },
      "execution_count": 6,
      "outputs": [
        {
          "output_type": "execute_result",
          "data": {
            "text/plain": [
              "99999977853408361"
            ]
          },
          "metadata": {},
          "execution_count": 6
        }
      ]
    },
    {
      "cell_type": "code",
      "source": [
        "def binary_search(array, searchValue, startIndex=0, endIndex=2 ** 32):\n",
        "    left = max(0, startIndex)\n",
        "    right = min(len(array), endIndex)\n",
        "\n",
        "    while left < right:\n",
        "        mid = (left + right) // 2\n",
        "\n",
        "        if array[mid] < searchValue + 1:\n",
        "            left = mid + 1\n",
        "        else:\n",
        "            right = mid\n",
        "\n",
        "    return left - 1"
      ],
      "metadata": {
        "id": "Y_lAOTHaLnHW"
      },
      "execution_count": 68,
      "outputs": []
    },
    {
      "cell_type": "code",
      "source": [
        "from sympy import nextprime\n",
        "import random\n",
        "import time\n",
        "import resource \n",
        "\n",
        "for exp in range(2, 16):\n",
        "    print(\"Range : \", \"10e\" + str(exp), \"->\", \"10e\" + str(exp + 1))\n",
        "    \n",
        "    primes_list = []\n",
        "    for i in range(100):\n",
        "        primes_list.append(random_prime(pow(10, exp), pow(10, exp + 1)))\n",
        "    last_ind = binary_search(primes, math.sqrt(pow(10, exp + 1)))\n",
        "    \n",
        "    fact_avg = 0.0\n",
        "    fact_time = 0.0\n",
        "    div_avg = 0.0\n",
        "    div_time = 0.0\n",
        "    period_time = 0.0\n",
        "    \n",
        "    for curr_prime in primes_list:\n",
        "        # print(\"Prime Number : \", curr_prime)\n",
        "        \n",
        "        time_start = time.perf_counter()\n",
        "        fact = factorize(curr_prime - 1, primes[:last_ind])\n",
        "        # print(\"Number of Factors : \", len(fact))\n",
        "        time_elapsed = (time.perf_counter() - time_start)\n",
        "        fact_time += time_elapsed\n",
        "        \n",
        "        time_start = time.perf_counter()\n",
        "        factors = divisors(fact)[1: -1]\n",
        "        # print(\"Number of Divisors : \", len(factors))\n",
        "        time_elapsed = (time.perf_counter() - time_start)\n",
        "        div_time += time_elapsed\n",
        "            \n",
        "        time_start = time.perf_counter()\n",
        "        min_period = curr_prime - 1\n",
        "        for i in range(0, len(factors)):\n",
        "            rem = pow(10, factors[i], curr_prime)\n",
        "            if (rem == -1 or rem == 1):\n",
        "                min_period = min(min_period, factors[i])\n",
        "        # print(\"Period of Decimal Reciprocal: \", min_period)\n",
        "        time_elapsed = (time.perf_counter() - time_start)\n",
        "\n",
        "        fact_avg += len(fact)\n",
        "        div_avg += len(factors)\n",
        "        period_time += time_elapsed\n",
        "\n",
        "    print(\"Avg. Number of Prime Factors : \", fact_avg/100.0)\n",
        "    print(\"Avg. Number of Divisors : \", div_avg/100.0)\n",
        "    print(\"Avg. Time to find Prime Factors : \", round(fact_time * 10.0, 3), \"ms\")\n",
        "    print(\"Avg. Time to find Divisors : \", round(div_time * 10.0, 3), \"ms\")\n",
        "    print(\"Avg. Time to find Period : \", round(period_time * 10.0, 3), \"ms\")\n",
        "    print(\"Avg. Runtime : \", round(div_time * 10.0  + period_time * 10.0 + fact_time * 10.0, 3), \"ms\")\n",
        "    print(\" \")\n",
        "    "
      ],
      "metadata": {
        "colab": {
          "base_uri": "https://localhost:8080/"
        },
        "id": "o8SmPVHH2abD",
        "outputId": "ef16230d-cb40-40d3-a7f4-f124b11fdc21"
      },
      "execution_count": 73,
      "outputs": [
        {
          "output_type": "stream",
          "name": "stdout",
          "text": [
            "Range :  10e2 -> 10e3\n",
            "Avg. Number of Prime Factors :  2.7\n",
            "Avg. Number of Divisors :  8.96\n",
            "Avg. Time to find Prime Factors :  0.002 ms\n",
            "Avg. Time to find Divisors :  0.006 ms\n",
            "Avg. Time to find Period :  0.01 ms\n",
            "Avg. Runtime :  0.018 ms\n",
            " \n",
            "Range :  10e3 -> 10e4\n",
            "Avg. Number of Prime Factors :  3.22\n",
            "Avg. Number of Divisors :  15.25\n",
            "Avg. Time to find Prime Factors :  0.003 ms\n",
            "Avg. Time to find Divisors :  0.01 ms\n",
            "Avg. Time to find Period :  0.018 ms\n",
            "Avg. Runtime :  0.031 ms\n",
            " \n",
            "Range :  10e4 -> 10e5\n",
            "Avg. Number of Prime Factors :  3.45\n",
            "Avg. Number of Divisors :  18.2\n",
            "Avg. Time to find Prime Factors :  0.005 ms\n",
            "Avg. Time to find Divisors :  0.014 ms\n",
            "Avg. Time to find Period :  0.04 ms\n",
            "Avg. Runtime :  0.058 ms\n",
            " \n",
            "Range :  10e5 -> 10e6\n",
            "Avg. Number of Prime Factors :  3.24\n",
            "Avg. Number of Divisors :  18.46\n",
            "Avg. Time to find Prime Factors :  0.007 ms\n",
            "Avg. Time to find Divisors :  0.013 ms\n",
            "Avg. Time to find Period :  0.042 ms\n",
            "Avg. Runtime :  0.062 ms\n",
            " \n",
            "Range :  10e6 -> 10e7\n",
            "Avg. Number of Prime Factors :  3.78\n",
            "Avg. Number of Divisors :  27.28\n",
            "Avg. Time to find Prime Factors :  0.011 ms\n",
            "Avg. Time to find Divisors :  0.02 ms\n",
            "Avg. Time to find Period :  0.046 ms\n",
            "Avg. Runtime :  0.077 ms\n",
            " \n",
            "Range :  10e7 -> 10e8\n",
            "Avg. Number of Prime Factors :  3.72\n",
            "Avg. Number of Divisors :  31.52\n",
            "Avg. Time to find Prime Factors :  0.032 ms\n",
            "Avg. Time to find Divisors :  0.021 ms\n",
            "Avg. Time to find Period :  0.121 ms\n",
            "Avg. Runtime :  0.174 ms\n",
            " \n",
            "Range :  10e8 -> 10e9\n",
            "Avg. Number of Prime Factors :  3.91\n",
            "Avg. Number of Divisors :  30.3\n",
            "Avg. Time to find Prime Factors :  0.07 ms\n",
            "Avg. Time to find Divisors :  0.023 ms\n",
            "Avg. Time to find Period :  0.078 ms\n",
            "Avg. Runtime :  0.17 ms\n",
            " \n",
            "Range :  10e9 -> 10e10\n",
            "Avg. Number of Prime Factors :  4.17\n",
            "Avg. Number of Divisors :  47.4\n",
            "Avg. Time to find Prime Factors :  0.171 ms\n",
            "Avg. Time to find Divisors :  0.028 ms\n",
            "Avg. Time to find Period :  0.142 ms\n",
            "Avg. Runtime :  0.341 ms\n",
            " \n",
            "Range :  10e10 -> 10e11\n",
            "Avg. Number of Prime Factors :  4.23\n",
            "Avg. Number of Divisors :  52.18\n",
            "Avg. Time to find Prime Factors :  0.438 ms\n",
            "Avg. Time to find Divisors :  0.035 ms\n",
            "Avg. Time to find Period :  0.18 ms\n",
            "Avg. Runtime :  0.653 ms\n",
            " \n",
            "Range :  10e11 -> 10e12\n",
            "Avg. Number of Prime Factors :  4.47\n",
            "Avg. Number of Divisors :  55.36\n",
            "Avg. Time to find Prime Factors :  1.264 ms\n",
            "Avg. Time to find Divisors :  0.043 ms\n",
            "Avg. Time to find Period :  0.207 ms\n",
            "Avg. Runtime :  1.514 ms\n",
            " \n",
            "Range :  10e12 -> 10e13\n",
            "Avg. Number of Prime Factors :  4.44\n",
            "Avg. Number of Divisors :  54.7\n",
            "Avg. Time to find Prime Factors :  4.388 ms\n",
            "Avg. Time to find Divisors :  0.042 ms\n",
            "Avg. Time to find Period :  0.224 ms\n",
            "Avg. Runtime :  4.655 ms\n",
            " \n",
            "Range :  10e13 -> 10e14\n",
            "Avg. Number of Prime Factors :  4.39\n",
            "Avg. Number of Divisors :  57.98\n",
            "Avg. Time to find Prime Factors :  13.69 ms\n",
            "Avg. Time to find Divisors :  0.054 ms\n",
            "Avg. Time to find Period :  0.259 ms\n",
            "Avg. Runtime :  14.002 ms\n",
            " \n",
            "Range :  10e14 -> 10e15\n",
            "Avg. Number of Prime Factors :  4.56\n",
            "Avg. Number of Divisors :  53.16\n",
            "Avg. Time to find Prime Factors :  33.903 ms\n",
            "Avg. Time to find Divisors :  0.064 ms\n",
            "Avg. Time to find Period :  0.263 ms\n",
            "Avg. Runtime :  34.231 ms\n",
            " \n",
            "Range :  10e15 -> 10e16\n",
            "Avg. Number of Prime Factors :  4.61\n",
            "Avg. Number of Divisors :  62.78\n",
            "Avg. Time to find Prime Factors :  100.152 ms\n",
            "Avg. Time to find Divisors :  0.069 ms\n",
            "Avg. Time to find Period :  0.339 ms\n",
            "Avg. Runtime :  100.559 ms\n",
            " \n"
          ]
        }
      ]
    }
  ]
}